{
 "cells": [
  {
   "cell_type": "code",
   "execution_count": 2,
   "metadata": {},
   "outputs": [],
   "source": [
    "import json, os\n",
    "from copy import deepcopy"
   ]
  },
  {
   "cell_type": "code",
   "execution_count": 7,
   "metadata": {},
   "outputs": [],
   "source": [
    "# with open('/opt/ml/input/data/train_all.json', 'r') as f:\n",
    "#     train_all = json.load(f)\n",
    "# with open('/opt/ml/input/data/train.json', 'r') as f:\n",
    "#     train = json.load(f)\n",
    "# with open('/opt/ml/pseudolabel_upernet_convnext_xlarge_fp16_640x640_160k_ade20k_epoch_90_tta.json', 'r') as f:\n",
    "#     pseudo = json.load(f)"
   ]
  },
  {
   "cell_type": "code",
   "execution_count": 49,
   "metadata": {},
   "outputs": [],
   "source": [
    "# pseudo_images = []\n",
    "# train_img_num = train_all['images'][-1]['id']\n",
    "# for i in range(len(pseudo['images'])):\n",
    "#     img = pseudo['images'][i]\n",
    "#     img['id'] += train_img_num\n",
    "#     pseudo_images.append(img)"
   ]
  },
  {
   "cell_type": "code",
   "execution_count": 50,
   "metadata": {},
   "outputs": [],
   "source": [
    "# pseudo_annos = []\n",
    "# train_img_num = train_all['images'][-1]['id']\n",
    "# train_anno_num = train_all['annotations'][-1]['id']\n",
    "# for i in range(len(pseudo['annotations'])):\n",
    "#     anno = pseudo['annotations'][i]\n",
    "#     anno['image_id'] += train_img_num\n",
    "#     anno['id'] += train_anno_num\n",
    "#     pseudo_annos.append(anno)"
   ]
  },
  {
   "cell_type": "code",
   "execution_count": 51,
   "metadata": {},
   "outputs": [],
   "source": [
    "# new = deepcopy(train)\n",
    "# new['images'] += pseudo_images\n",
    "# new['annotations'] += pseudo_annos"
   ]
  },
  {
   "cell_type": "code",
   "execution_count": 6,
   "metadata": {},
   "outputs": [],
   "source": [
    "with open('/opt/ml/input/data/train_all.json', 'r') as f:\n",
    "    train_all = json.load(f)\n",
    "    \n",
    "for i in range(5):\n",
    "    \n",
    "    with open(f'/opt/ml/input/data/fold/fold{i}/output/output.json', 'r') as f:\n",
    "        cp = json.load(f)\n",
    "    with open(f'/opt/ml/input/data/fold/train_all_sorted_train{i}.json', 'r') as f:\n",
    "        train = json.load(f)\n",
    "    \n",
    "    cp_images = []\n",
    "    cp_annos = []\n",
    "\n",
    "    train_img_num = train_all['images'][-1]['id']\n",
    "    train_anno_num = train_all['annotations'][-1]['id']\n",
    "\n",
    "    for idx in range(len(cp['images'])):\n",
    "        img = cp['images'][idx]\n",
    "        img['id'] += train_img_num\n",
    "        img['file_name'] = os.path.join(f'fold/fold{i}/output/JPEGImages', img['file_name'])\n",
    "        cp_images.append(img)\n",
    "\n",
    "    for idx in range(len(cp['annotations'])):\n",
    "        anno = cp['annotations'][idx]\n",
    "        anno['image_id'] += train_img_num\n",
    "        anno['id'] += train_anno_num\n",
    "        cp_annos.append(anno)\n",
    "    \n",
    "    new = deepcopy(train)\n",
    "    new['images'] += cp_images\n",
    "    new['annotations'] += cp_annos\n",
    "\n",
    "    with open(f'/opt/ml/input/data/train_cp_fold{i}.json', 'w') as f:\n",
    "        json.dump(new, f, indent = 2)"
   ]
  },
  {
   "cell_type": "code",
   "execution_count": 7,
   "metadata": {},
   "outputs": [],
   "source": [
    "# for i in range(5):\n",
    "#     for state in ['train', 'val']:\n",
    "#         with open(f'/opt/ml/input/data/fold/train_all_sorted_{state}{i}.json', 'r') as f:\n",
    "#             j = json.load(f)\n",
    "#         with open(f'/opt/ml/input/data/train_all_sorted_{state}{i}.json', 'w') as f:\n",
    "#             json.dump(j, f, indent = 2)"
   ]
  }
 ],
 "metadata": {
  "kernelspec": {
   "display_name": "mhchoimmseg",
   "language": "python",
   "name": "python3"
  },
  "language_info": {
   "codemirror_mode": {
    "name": "ipython",
    "version": 3
   },
   "file_extension": ".py",
   "mimetype": "text/x-python",
   "name": "python",
   "nbconvert_exporter": "python",
   "pygments_lexer": "ipython3",
   "version": "3.8.5"
  },
  "orig_nbformat": 4,
  "vscode": {
   "interpreter": {
    "hash": "70ad9b5ba9a8cc87ed38c21fe5cd6429180f490f0b0df458fd355c792dae8675"
   }
  }
 },
 "nbformat": 4,
 "nbformat_minor": 2
}
