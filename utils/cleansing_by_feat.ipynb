{
 "cells": [
  {
   "cell_type": "code",
   "execution_count": 2,
   "metadata": {},
   "outputs": [],
   "source": [
    "import os\n",
    "import json\n",
    "from collections import defaultdict\n",
    "from pycocotools.coco import COCO\n",
    "\n",
    "categories = {\n",
    "    'General trash':1,\n",
    "    'Paper': 2,\n",
    "    'Paper pack': 3,\n",
    "    'Metal': 4,\n",
    "    'Glass': 5,\n",
    "    'Plastic': 6,\n",
    "    'Styrofoam': 7,\n",
    "    'Plastic bag': 8,\n",
    "    'Battery': 9,\n",
    "    'Clothing': 10\n",
    "}\n",
    "\n",
    "data_dir = '/opt/ml/input/data'"
   ]
  },
  {
   "cell_type": "code",
   "execution_count": 4,
   "metadata": {},
   "outputs": [
    {
     "name": "stdout",
     "output_type": "stream",
     "text": [
      "loading annotations into memory...\n",
      "Done (t=0.96s)\n",
      "creating index...\n",
      "index created!\n",
      "기존 이미지 개수 = 655\n",
      "기존 annotation 개수 = 5252\n",
      "시작 img 인덱스 = 0\n",
      "시작 anno 인덱스 = 0\n",
      "마지막 img 인덱스 = 655\n",
      "마지막 anno 인덱스 = 5234\n",
      "변경된 annotation 개수 = 55\n",
      "삭제된 annotation 개수 = 18\n",
      "변경 후 이미지 개수 = 655\n",
      "변경 후 annotation 개수 = 5234\n"
     ]
    }
   ],
   "source": [
    "###### exclude로 지정한 이미지 제외하고 target_class로 지정한 thr보다 작은 annotation 제외하고 새로운 json 생성 #####\n",
    "# 실행시간: 10초\n",
    "# 사용법: 2가지만 지정해주면됨\n",
    "\n",
    "# 변경할 json 경로 지정\n",
    "file_name = 'train_sorted.json' #########지정해줄꺼 1##########\n",
    "target_dir = data_dir + '/' + file_name\n",
    "\n",
    "\n",
    "# 제거할 이미지 파일명 추가: \n",
    "target_class = 'General trash' #########지정해줄꺼 2##########\n",
    "thr = 100\n",
    "exclude = [ #########(옵션)지정해줄꺼 3##########\n",
    "    \n",
    "]\n",
    "exclude = set(exclude)\n",
    "\n",
    "\n",
    "target_json = json.load(open(target_dir))\n",
    "target_coco = COCO(target_dir)\n",
    "print(f'기존 이미지 개수 = {len(target_json[\"images\"])}')\n",
    "print(f'기존 annotation 개수 = {len(target_json[\"annotations\"])}')\n",
    "\n",
    "# 새 json 객체 생성\n",
    "new_json = {\n",
    "    'info': target_json['info'],\n",
    "    'licenses': target_json['licenses'],\n",
    "    'images': [],\n",
    "    'categories': target_json['categories'],\n",
    "    'annotations': [],\n",
    "}\n",
    "\n",
    "img_idx = 0 # img 인덱스 -> 순서대로 0부터 1씩 증가해야함\n",
    "anno_idx = 0 # ann 인덱스 -> 이미지 상관없이 순서대로 0부터 1씩 증가해야함\n",
    "print(f'시작 img 인덱스 = {img_idx}')\n",
    "print(f'시작 anno 인덱스 = {anno_idx}')\n",
    "removed_annos_cnt = 0\n",
    "changed_annos_cnt = 0\n",
    "for i in range(len(target_json['images'][:])):\n",
    "    \n",
    "    img_id = target_coco.getImgIds(imgIds=i)\n",
    "    img_info = target_coco.loadImgs(img_id)[0]\n",
    "    img_name = img_info['file_name']\n",
    "\n",
    "    ann_ids = target_coco.getAnnIds(imgIds=img_info['id'])\n",
    "    anns = target_coco.loadAnns(ann_ids)\n",
    "    anns.sort(key=lambda ann:ann['area'], reverse=True) # area 큰 순\n",
    "\n",
    "    new_json['images'].append(\n",
    "        {\n",
    "            'license':0,\n",
    "            'url': None,\n",
    "            'file_name': img_name,\n",
    "            'height': 512,\n",
    "            'width': 512,\n",
    "            'date_captured': None,\n",
    "            'id': img_idx,\n",
    "        }\n",
    "    )\n",
    "    \n",
    "    for ann in anns:\n",
    "        ann['id'] = anno_idx\n",
    "        ann['image_id'] = img_idx\n",
    "        \n",
    "        # 크기 thr보다 작은 경우 모두 target_class로 변경\n",
    "        if ann['area']<thr and ann['category_id']!=categories[target_class]:\n",
    "            ann['category_id'] = categories[target_class]\n",
    "            changed_annos_cnt += 1\n",
    "\n",
    "        anno_idx += 1\n",
    "        new_json['annotations'].append(ann)\n",
    "    img_idx += 1\n",
    "\n",
    "print(f'마지막 img 인덱스 = {img_idx}')\n",
    "print(f'마지막 anno 인덱스 = {anno_idx}')\n",
    "\n",
    "print(f'변경된 annotation 개수 = {changed_annos_cnt}')\n",
    "print(f'삭제된 annotation 개수 = {removed_annos_cnt}')\n",
    "\n",
    "print(f'변경 후 이미지 개수 = {len(new_json[\"images\"])}')\n",
    "print(f'변경 후 annotation 개수 = {len(new_json[\"annotations\"])}')"
   ]
  },
  {
   "cell_type": "code",
   "execution_count": 15,
   "metadata": {},
   "outputs": [
    {
     "name": "stdout",
     "output_type": "stream",
     "text": [
      "loading annotations into memory...\n",
      "Done (t=3.77s)\n",
      "creating index...\n",
      "index created!\n"
     ]
    }
   ],
   "source": [
    "# 저장\n",
    "save_path = os.path.join(data_dir,f'{file_name.split(\".\")[0]}_plastic_100.json')\n",
    "\n",
    "with open(save_path,'w') as f:\n",
    "        json.dump(new_json, f, indent=4)\n",
    "\n",
    "# coco 포멧 맞는지 확인\n",
    "demo = COCO(save_path)"
   ]
  },
  {
   "cell_type": "code",
   "execution_count": null,
   "metadata": {},
   "outputs": [],
   "source": []
  }
 ],
 "metadata": {
  "kernelspec": {
   "display_name": "seg",
   "language": "python",
   "name": "python3"
  },
  "language_info": {
   "codemirror_mode": {
    "name": "ipython",
    "version": 3
   },
   "file_extension": ".py",
   "mimetype": "text/x-python",
   "name": "python",
   "nbconvert_exporter": "python",
   "pygments_lexer": "ipython3",
   "version": "3.8.5 (default, Sep  4 2020, 07:30:14) \n[GCC 7.3.0]"
  },
  "orig_nbformat": 4,
  "vscode": {
   "interpreter": {
    "hash": "36b65445d9ce5ce20025699eca542af702a8257f60b7fe337a56c3263cd17b6e"
   }
  }
 },
 "nbformat": 4,
 "nbformat_minor": 2
}
