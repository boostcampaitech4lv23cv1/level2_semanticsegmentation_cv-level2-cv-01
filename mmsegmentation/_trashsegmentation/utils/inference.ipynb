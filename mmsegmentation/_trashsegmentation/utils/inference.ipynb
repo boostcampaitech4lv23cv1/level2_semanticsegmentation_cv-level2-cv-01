{
 "cells": [
  {
   "cell_type": "code",
   "execution_count": 1,
   "metadata": {},

   "outputs": [],

   "source": [
    "import argparse\n",
    "import os\n",
    "import os.path as osp\n",
    "import shutil\n",
    "import time\n",
    "import warnings\n",

    "warnings.filterwarnings('ignore')\n",
    "\n",
    "import mmcv\n",
    "import torch\n",
    "from mmcv import Config\n",
    "from mmcv.cnn.utils import revert_sync_batchnorm\n",
    "from mmcv.parallel import MMDataParallel, MMDistributedDataParallel\n",
    "from mmcv.runner import (get_dist_info, init_dist, load_checkpoint,\n",
    "                         wrap_fp16_model)\n",
    "from mmcv.utils import DictAction\n",
    "\n",
    "from mmseg import digit_version\n",
    "from mmseg.apis import multi_gpu_test, single_gpu_test\n",
    "from mmseg.datasets import build_dataloader, build_dataset\n",
    "from mmseg.models import build_segmentor\n",
    "from mmseg.utils import setup_multi_processes"
   ]
  },
  {
   "cell_type": "code",
   "execution_count": 2,
   "metadata": {},
   "outputs": [
    {
     "name": "stderr",
     "output_type": "stream",
     "text": [

      "2023-01-04 22:23:36,692 - mmseg - INFO - Loaded 819 images\n"

     ]
    },
    {
     "name": "stdout",
     "output_type": "stream",
     "text": [

     ]
    }
   ],
   "source": [
    "# config 파일과 work_dir, epoch(model)을 설정해주세요.\n",

    "\n",
    "\n",
    "cfg.seed=2022\n",
    "cfg.gpu_ids = [1]\n",
    "cfg.model.train_cfg = None\n",
    "cfg.data.test.test_mode = True\n",
    "\n",
    "# build dataset & dataloader\n",
    "dataset = build_dataset(cfg.data.test)\n",
    "data_loader = build_dataloader(\n",
    "        dataset,\n",
    "        samples_per_gpu=1,\n",
    "        workers_per_gpu=4,\n",
    "        dist=False,\n",
    "        shuffle=False)\n",
    "\n",
    "# checkpoint path\n",
    "checkpoint_path = os.path.join(cfg.work_dir, f'{epoch}.pth')\n",
    "\n",
    "model = build_segmentor(cfg.model, test_cfg=cfg.get('test_cfg')) # build detector\n",
    "checkpoint = load_checkpoint(model, checkpoint_path, map_location='cpu') # ckpt load\n",
    "\n",
    "model.CLASSES = dataset.CLASSES\n",
    "model = MMDataParallel(model.cuda(), device_ids=[0])"
   ]
  },
  {
   "cell_type": "code",
   "execution_count": 3,
   "metadata": {},
   "outputs": [
    {
     "name": "stdout",
     "output_type": "stream",
     "text": [

     ]
    }
   ],
   "source": [
    "output = single_gpu_test(model, data_loader) # output 계산"
   ]
  },
  {
   "cell_type": "code",

   "metadata": {},
   "outputs": [],
   "source": [
    "import json\n",
    "import pandas as pd\n",
    "\n",
    "# 저장 위치를 설정하세요.\n",

   


    "\n",
    "with open(\"/opt/ml/input/data/test.json\", \"r\") as f:\n",
    "    test = json.load(f)\n",
    "\n",
    "# sample_submisson.csv 열기\n",

    "\n",
    "for id, out in zip(test['images'], output):\n",
    "    # maxpooling\n",
    "    input_size = 512\n",
    "    output_size = 256\n",
    "    bin_size = input_size // output_size\n",
    "\n",
    "    out = out.reshape((1,512,512))\n",
    "    result = out.reshape((1, output_size, bin_size, \n",
    "                            output_size, bin_size)).max(4).max(2)\n",
    "\n",
    "    submission = submission.append({\"image_id\" : id['file_name'], \"PredictionString\" : \" \".join(map(str, result.flatten().tolist()))}, \n",
    "                                   ignore_index=True)\n",
    "\n",
    "# submission.csv로 저장\n",

  }
 ],
 "metadata": {
  "kernelspec": {

   "language": "python",
   "name": "python3"
  },
  "language_info": {
   "codemirror_mode": {
    "name": "ipython",
    "version": 3
   },
   "file_extension": ".py",
   "mimetype": "text/x-python",
   "name": "python",
   "nbconvert_exporter": "python",
   "pygments_lexer": "ipython3",

  },
  "orig_nbformat": 4,
  "vscode": {
   "interpreter": {

   }
  }
 },
 "nbformat": 4,
 "nbformat_minor": 2
}
