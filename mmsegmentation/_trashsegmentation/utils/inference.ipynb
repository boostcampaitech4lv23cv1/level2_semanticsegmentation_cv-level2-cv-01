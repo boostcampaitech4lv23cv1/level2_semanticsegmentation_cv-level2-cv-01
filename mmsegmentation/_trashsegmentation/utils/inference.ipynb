{
 "cells": [
  {
   "cell_type": "code",
   "execution_count": 5,
   "metadata": {},
   "outputs": [],
   "source": [
    "import argparse\n",
    "import os\n",
    "import os.path as osp\n",
    "import shutil\n",
    "import time\n",
    "import warnings\n",
    "\n",
    "import mmcv\n",
    "import torch\n",
    "from mmcv import Config\n",
    "from mmcv.cnn.utils import revert_sync_batchnorm\n",
    "from mmcv.parallel import MMDataParallel, MMDistributedDataParallel\n",
    "from mmcv.runner import (get_dist_info, init_dist, load_checkpoint,\n",
    "                         wrap_fp16_model)\n",
    "from mmcv.utils import DictAction\n",
    "\n",
    "from mmseg import digit_version\n",
    "from mmseg.apis import multi_gpu_test, single_gpu_test\n",
    "from mmseg.datasets import build_dataloader, build_dataset\n",
    "from mmseg.models import build_segmentor\n",
    "from mmseg.utils import setup_multi_processes"
   ]
  },
  {
   "cell_type": "code",
   "execution_count": 6,
   "metadata": {},
   "outputs": [
    {
     "name": "stderr",
     "output_type": "stream",
     "text": [
      "2023-01-03 04:05:02,834 - mmseg - INFO - Loaded 819 images\n"
     ]
    },
    {
     "name": "stdout",
     "output_type": "stream",
     "text": [
      "load checkpoint from local path: /opt/ml/level2_semanticsegmentation_cv-level2-cv-01/mmsegmentation/work_dirs/upernet_convnext_xlarge_fp16_640x640_160k_ade20k/epoch_80.pth\n"
     ]
    }
   ],
   "source": [
    "# config 파일과 work_dir, epoch(model)을 설정해주세요.\n",
    "cfg = Config.fromfile('/opt/ml/level2_semanticsegmentation_cv-level2-cv-01/mmsegmentation/_trashsegmentation/convnext/upernet_convnext_xlarge_fp16_640x640_160k_ade20k.py')\n",
    "cfg.work_dir = '/opt/ml/level2_semanticsegmentation_cv-level2-cv-01/mmsegmentation/work_dirs/upernet_convnext_xlarge_fp16_640x640_160k_ade20k'\n",
    "epoch = 'epoch_80'\n",
    "\n",
    "\n",
    "cfg.seed=2022\n",
    "cfg.gpu_ids = [1]\n",
    "cfg.model.train_cfg = None\n",
    "cfg.data.test.test_mode = True\n",
    "\n",
    "# build dataset & dataloader\n",
    "dataset = build_dataset(cfg.data.test)\n",
    "data_loader = build_dataloader(\n",
    "        dataset,\n",
    "        samples_per_gpu=1,\n",
    "        workers_per_gpu=4,\n",
    "        dist=False,\n",
    "        shuffle=False)\n",
    "\n",
    "# checkpoint path\n",
    "checkpoint_path = os.path.join(cfg.work_dir, f'{epoch}.pth')\n",
    "\n",
    "model = build_segmentor(cfg.model, test_cfg=cfg.get('test_cfg')) # build detector\n",
    "checkpoint = load_checkpoint(model, checkpoint_path, map_location='cpu') # ckpt load\n",
    "\n",
    "model.CLASSES = dataset.CLASSES\n",
    "model = MMDataParallel(model.cuda(), device_ids=[0])"
   ]
  },
  {
   "cell_type": "code",
   "execution_count": 7,
   "metadata": {},
   "outputs": [
    {
     "name": "stdout",
     "output_type": "stream",
     "text": [
      "[>>>>>>>>>>>>>                ] 394/819, 1.2 task/s, elapsed: 324s, ETA:   350s"
     ]
    }
   ],
   "source": [
    "output = single_gpu_test(model, data_loader) # output 계산"
   ]
  },
  {
   "cell_type": "code",
   "execution_count": null,
   "metadata": {},
   "outputs": [],
   "source": [
    "import json\n",
    "import pandas as pd\n",
    "\n",
    "# 저장 위치를 설정하세요.\n",
    "save_dir = \"/opt/ml/level2_semanticsegmentation_cv-level2-cv-01/mmsegmentation/submission/convnext_xl_aug_PL60to80_miou7251.csv\"\n",
    "\n",
    "with open(\"/opt/ml/input/data/test.json\", \"r\") as f:\n",
    "    test = json.load(f)\n",
    "\n",
    "# sample_submisson.csv 열기\n",
    "submission = pd.read_csv('/opt/ml/level2_semanticsegmentation_cv-level2-cv-01/mmsegmentation/submission/sample_submission.csv', index_col=None)\n",
    "\n",
    "# out[::2,::2]\n",
    "# for id, out in zip(test['images'], output):\n",
    "#     submission = submission.append({\"image_id\" : id['file_name'], \"PredictionString\" : \" \".join(map(str, out[::2,::2].flatten().tolist()))}, \n",
    "#                                    ignore_index=True)\n",
    "\n",
    "\n",
    "for id, out in zip(test['images'], output):\n",
    "    # maxpooling\n",
    "    input_size = 512\n",
    "    output_size = 256\n",
    "    bin_size = input_size // output_size\n",
    "\n",
    "    out = out.reshape((1,512,512))\n",
    "    result = out.reshape((1, output_size, bin_size, \n",
    "                            output_size, bin_size)).max(4).max(2)\n",
    "\n",
    "    submission = submission.append({\"image_id\" : id['file_name'], \"PredictionString\" : \" \".join(map(str, result.flatten().tolist()))}, \n",
    "                                   ignore_index=True)\n",
    "\n",
    "# submission.csv로 저장\n",
    "submission.to_csv(save_dir, index=False)"
   ]
  }
 ],
 "metadata": {
  "kernelspec": {
   "display_name": "mm_s",
   "language": "python",
   "name": "python3"
  },
  "language_info": {
   "codemirror_mode": {
    "name": "ipython",
    "version": 3
   },
   "file_extension": ".py",
   "mimetype": "text/x-python",
   "name": "python",
   "nbconvert_exporter": "python",
   "pygments_lexer": "ipython3",
   "version": "3.8.15"
  },
  "orig_nbformat": 4,
  "vscode": {
   "interpreter": {
    "hash": "aad170441535ff7e8c6abaa260a40b31a9ae36f476b03f274ab7effa279ca7b0"
   }
  }
 },
 "nbformat": 4,
 "nbformat_minor": 2
}
