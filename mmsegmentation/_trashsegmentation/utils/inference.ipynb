{
 "cells": [
  {
   "cell_type": "code",
   "execution_count": 1,
   "metadata": {},
   "outputs": [
    {
     "name": "stderr",
     "output_type": "stream",
     "text": [
      "/opt/conda/envs/mm_s/lib/python3.8/site-packages/scipy/__init__.py:146: UserWarning: A NumPy version >=1.16.5 and <1.23.0 is required for this version of SciPy (detected version 1.23.4\n",
      "  warnings.warn(f\"A NumPy version >={np_minversion} and <{np_maxversion}\"\n"
     ]
    }
   ],
   "source": [
    "import argparse\n",
    "import os\n",
    "import os.path as osp\n",
    "import shutil\n",
    "import time\n",
    "import warnings\n",
    "\n",
    "import mmcv\n",
    "import torch\n",
    "from mmcv import Config\n",
    "from mmcv.cnn.utils import revert_sync_batchnorm\n",
    "from mmcv.parallel import MMDataParallel, MMDistributedDataParallel\n",
    "from mmcv.runner import (get_dist_info, init_dist, load_checkpoint,\n",
    "                         wrap_fp16_model)\n",
    "from mmcv.utils import DictAction\n",
    "\n",
    "from mmseg import digit_version\n",
    "from mmseg.apis import multi_gpu_test, single_gpu_test\n",
    "from mmseg.datasets import build_dataloader, build_dataset\n",
    "from mmseg.models import build_segmentor\n",
    "from mmseg.utils import setup_multi_processes"
   ]
  },
  {
   "cell_type": "code",
   "execution_count": 2,
   "metadata": {},
   "outputs": [
    {
     "name": "stderr",
     "output_type": "stream",
     "text": [
      "/opt/conda/envs/mm_s/lib/python3.8/site-packages/mmseg/datasets/pipelines/test_time_aug.py:95: UserWarning: flip_direction has no effect when flip is set to False\n",
      "  warnings.warn(\n",
      "2022-12-30 10:36:35,130 - mmseg - INFO - Loaded 819 images\n",
      "/opt/conda/envs/mm_s/lib/python3.8/site-packages/mmseg/models/losses/cross_entropy_loss.py:235: UserWarning: Default ``avg_non_ignore`` is False, if you would like to ignore the certain label and average loss over non-ignore labels, which is the same with PyTorch official cross_entropy, set ``avg_non_ignore=True``.\n",
      "  warnings.warn(\n"
     ]
    },
    {
     "name": "stdout",
     "output_type": "stream",
     "text": [
      "load checkpoint from local path: /opt/ml/level2_semanticsegmentation_cv-level2-cv-01/mmsegmentation/work_dirs/upernet_convnext_base_fp16_512x512_160k_ade20k/best_mIoU_iter_20000.pth\n"
     ]
    }
   ],
   "source": [
    "# config 파일과 work_dir, epoch(model)을 설정해주세요.\n",
    "cfg = Config.fromfile('//opt/ml/level2_semanticsegmentation_cv-level2-cv-01/mmsegmentation/_trashsegmentation/swin/upernet_swin_large_patch4_window12_512x512_pretrain_384x384_22K_160k_ade20k.py')\n",
    "cfg.work_dir = '/opt/ml/level2_semanticsegmentation_cv-level2-cv-01/mmsegmentation/work_dirs/upernet_swin_large_patch4_window12_512x512_pretrain_384x384_22K_160k_ade20k'\n",
    "epoch = 'latest'\n",
    "\n",
    "\n",
    "cfg.seed=2022\n",
    "cfg.gpu_ids = [1]\n",
    "cfg.model.train_cfg = None\n",
    "cfg.data.test.test_mode = True\n",
    "\n",
    "# build dataset & dataloader\n",
    "dataset = build_dataset(cfg.data.test)\n",
    "data_loader = build_dataloader(\n",
    "        dataset,\n",
    "        samples_per_gpu=1,\n",
    "        workers_per_gpu=4,\n",
    "        dist=False,\n",
    "        shuffle=False)\n",
    "\n",
    "# checkpoint path\n",
    "checkpoint_path = os.path.join(cfg.work_dir, f'{epoch}.pth')\n",
    "\n",
    "model = build_segmentor(cfg.model, test_cfg=cfg.get('test_cfg')) # build detector\n",
    "checkpoint = load_checkpoint(model, checkpoint_path, map_location='cpu') # ckpt load\n",
    "\n",
    "model.CLASSES = dataset.CLASSES\n",
    "model = MMDataParallel(model.cuda(), device_ids=[0])"
   ]
  },
  {
   "cell_type": "code",
   "execution_count": 3,
   "metadata": {},
   "outputs": [
    {
     "name": "stdout",
     "output_type": "stream",
     "text": [
      "[>>>>>>>>>>>>>>>>>>>>>>>>>>>>>] 819/819, 4.8 task/s, elapsed: 172s, ETA:     0s"
     ]
    }
   ],
   "source": [
    "output = single_gpu_test(model, data_loader) # output 계산"
   ]
  },
  {
   "cell_type": "code",
   "execution_count": 8,
   "metadata": {},
   "outputs": [],
   "source": [
    "import json\n",
    "import pandas as pd\n",
    "\n",
    "# 저장 위치를 설정하세요.\n",
    "save_dir = \"/opt/ml/level2_semanticsegmentation_cv-level2-cv-01/mmsegmentation/submission/new_sub_convnext_base.csv\"\n",
    "\n",
    "with open(\"/opt/ml/input/data/test.json\", \"r\") as f:\n",
    "    test = json.load(f)\n",
    "\n",
    "# sample_submisson.csv 열기\n",
    "submission = pd.read_csv('/opt/ml/level2_semanticsegmentation_cv-level2-cv-01/mmsegmentation/submission/sample_submission.csv', index_col=None)\n",
    "\n",
    "# out[::2,::2]\n",
    "# for id, out in zip(test['images'], output):\n",
    "#     submission = submission.append({\"image_id\" : id['file_name'], \"PredictionString\" : \" \".join(map(str, out[::2,::2].flatten().tolist()))}, \n",
    "#                                    ignore_index=True)\n",
    "\n",
    "\n",
    "for id, out in zip(test['images'], output):\n",
    "    # maxpooling\n",
    "    input_size = 512\n",
    "    output_size = 256\n",
    "    bin_size = input_size // output_size\n",
    "\n",
    "    out = out.reshape((1,512,512))\n",
    "    result = out.reshape((1, output_size, bin_size, \n",
    "                            output_size, bin_size)).max(4).max(2)\n",
    "\n",
    "    submission = submission.append({\"image_id\" : id['file_name'], \"PredictionString\" : \" \".join(map(str, result.flatten().tolist()))}, \n",
    "                                   ignore_index=True)\n",
    "\n",
    "# submission.csv로 저장\n",
    "submission.to_csv(save_dir, index=False)"
   ]
  }
 ],
 "metadata": {
  "kernelspec": {
   "display_name": "mm_s",
   "language": "python",
   "name": "python3"
  },
  "language_info": {
   "codemirror_mode": {
    "name": "ipython",
    "version": 3
   },
   "file_extension": ".py",
   "mimetype": "text/x-python",
   "name": "python",
   "nbconvert_exporter": "python",
   "pygments_lexer": "ipython3",
   "version": "3.8.15 (default, Nov 24 2022, 15:19:38) \n[GCC 11.2.0]"
  },
  "orig_nbformat": 4,
  "vscode": {
   "interpreter": {
    "hash": "aad170441535ff7e8c6abaa260a40b31a9ae36f476b03f274ab7effa279ca7b0"
   }
  }
 },
 "nbformat": 4,
 "nbformat_minor": 2
}
