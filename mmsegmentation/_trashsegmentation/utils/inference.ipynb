{
 "cells": [
  {
   "cell_type": "code",
   "execution_count": 1,
   "metadata": {},
   "outputs": [
    {
     "name": "stderr",
     "output_type": "stream",
     "text": [
      "/opt/conda/envs/mm_s/lib/python3.8/site-packages/scipy/__init__.py:146: UserWarning: A NumPy version >=1.16.5 and <1.23.0 is required for this version of SciPy (detected version 1.23.4\n",
      "  warnings.warn(f\"A NumPy version >={np_minversion} and <{np_maxversion}\"\n"
     ]
    }
   ],
   "source": [
    "import argparse\n",
    "import os\n",
    "import os.path as osp\n",
    "import shutil\n",
    "import time\n",
    "import warnings\n",
    "\n",
    "import mmcv\n",
    "import torch\n",
    "from mmcv import Config\n",
    "from mmcv.cnn.utils import revert_sync_batchnorm\n",
    "from mmcv.parallel import MMDataParallel, MMDistributedDataParallel\n",
    "from mmcv.runner import (get_dist_info, init_dist, load_checkpoint,\n",
    "                         wrap_fp16_model)\n",
    "from mmcv.utils import DictAction\n",
    "\n",
    "from mmseg import digit_version\n",
    "from mmseg.apis import multi_gpu_test, single_gpu_test\n",
    "from mmseg.datasets import build_dataloader, build_dataset\n",
    "from mmseg.models import build_segmentor\n",
    "from mmseg.utils import setup_multi_processes"
   ]
  },
  {
   "cell_type": "code",
   "execution_count": 5,
   "metadata": {},
   "outputs": [
    {
     "name": "stderr",
     "output_type": "stream",
     "text": [
      "2022-12-29 09:56:02,216 - mmseg - INFO - Loaded 819 images\n"
     ]
    },
    {
     "ename": "AttributeError",
     "evalue": "'ConfigDict' object has no attribute 'workers_per_gpu'",
     "output_type": "error",
     "traceback": [
      "\u001b[0;31m---------------------------------------------------------------------------\u001b[0m",
      "\u001b[0;31mAttributeError\u001b[0m                            Traceback (most recent call last)",
      "Cell \u001b[0;32mIn[5], line 17\u001b[0m\n\u001b[1;32m     12\u001b[0m \u001b[39m# build dataset & dataloader\u001b[39;00m\n\u001b[1;32m     13\u001b[0m dataset \u001b[39m=\u001b[39m build_dataset(cfg\u001b[39m.\u001b[39mdata\u001b[39m.\u001b[39mtest)\n\u001b[1;32m     14\u001b[0m data_loader \u001b[39m=\u001b[39m build_dataloader(\n\u001b[1;32m     15\u001b[0m         dataset,\n\u001b[1;32m     16\u001b[0m         samples_per_gpu\u001b[39m=\u001b[39m\u001b[39m1\u001b[39m,\n\u001b[0;32m---> 17\u001b[0m         workers_per_gpu\u001b[39m=\u001b[39mcfg\u001b[39m.\u001b[39;49mdata\u001b[39m.\u001b[39;49mworkers_per_gpu,\n\u001b[1;32m     18\u001b[0m         dist\u001b[39m=\u001b[39m\u001b[39mFalse\u001b[39;00m,\n\u001b[1;32m     19\u001b[0m         shuffle\u001b[39m=\u001b[39m\u001b[39mFalse\u001b[39;00m)\n\u001b[1;32m     21\u001b[0m \u001b[39m# checkpoint path\u001b[39;00m\n\u001b[1;32m     22\u001b[0m checkpoint_path \u001b[39m=\u001b[39m os\u001b[39m.\u001b[39mpath\u001b[39m.\u001b[39mjoin(cfg\u001b[39m.\u001b[39mwork_dir, \u001b[39mf\u001b[39m\u001b[39m'\u001b[39m\u001b[39m{\u001b[39;00mepoch\u001b[39m}\u001b[39;00m\u001b[39m.pth\u001b[39m\u001b[39m'\u001b[39m)\n",
      "File \u001b[0;32m/opt/conda/envs/mm_s/lib/python3.8/site-packages/mmcv/utils/config.py:48\u001b[0m, in \u001b[0;36mConfigDict.__getattr__\u001b[0;34m(self, name)\u001b[0m\n\u001b[1;32m     46\u001b[0m \u001b[39melse\u001b[39;00m:\n\u001b[1;32m     47\u001b[0m     \u001b[39mreturn\u001b[39;00m value\n\u001b[0;32m---> 48\u001b[0m \u001b[39mraise\u001b[39;00m ex\n",
      "\u001b[0;31mAttributeError\u001b[0m: 'ConfigDict' object has no attribute 'workers_per_gpu'"
     ]
    }
   ],
   "source": [
    "# config 파일과 work_dir, epoch(model)을 설정해주세요.\n",
    "cfg = Config.fromfile('/opt/ml/level2_semanticsegmentation_cv-level2-cv-01/mmsegmentation/_trashsegmentation/convnext/upernet_convnext_xlarge_fp16_640x640_160k_ade20k.py')\n",
    "cfg.work_dir = '/opt/ml/level2_semanticsegmentation_cv-level2-cv-01/mmsegmentation/work_dirs/upernet_convnext_xlarge_fp16_640x640_160k_ade20k'\n",
    "epoch = 'best_mIoU_iter_40000'\n",
    "\n",
    "\n",
    "cfg.seed=2022\n",
    "cfg.gpu_ids = [1]\n",
    "cfg.model.train_cfg = None\n",
    "cfg.data.test.test_mode = True\n",
    "\n",
    "# build dataset & dataloader\n",
    "dataset = build_dataset(cfg.data.test)\n",
    "data_loader = build_dataloader(\n",
    "        dataset,\n",
    "        samples_per_gpu=1,\n",
    "        workers_per_gpu=4,\n",
    "        dist=False,\n",
    "        shuffle=False)\n",
    "\n",
    "# checkpoint path\n",
    "checkpoint_path = os.path.join(cfg.work_dir, f'{epoch}.pth')\n",
    "\n",
    "model = build_segmentor(cfg.model, test_cfg=cfg.get('test_cfg')) # build detector\n",
    "checkpoint = load_checkpoint(model, checkpoint_path, map_location='cpu') # ckpt load\n",
    "\n",
    "model.CLASSES = dataset.CLASSES\n",
    "model = MMDataParallel(model.cuda(), device_ids=[0])"
   ]
  }
 ],
 "metadata": {
  "kernelspec": {
   "display_name": "mm_s",
   "language": "python",
   "name": "python3"
  },
  "language_info": {
   "codemirror_mode": {
    "name": "ipython",
    "version": 3
   },
   "file_extension": ".py",
   "mimetype": "text/x-python",
   "name": "python",
   "nbconvert_exporter": "python",
   "pygments_lexer": "ipython3",
   "version": "3.8.15"
  },
  "orig_nbformat": 4,
  "vscode": {
   "interpreter": {
    "hash": "aad170441535ff7e8c6abaa260a40b31a9ae36f476b03f274ab7effa279ca7b0"
   }
  }
 },
 "nbformat": 4,
 "nbformat_minor": 2
}
